# Resources

#https://www.marutitech.com/complete-guide-chatbots/
#https://www.marutitech.com/ebooks/guide-design-chatbot-conversation/
#https://www.marutitech.com/complete-guide-bot-frameworks/
#https://chatbotsmagazine.com/how-to-make-a-chatbot-intelligent-a232dc367aed
#https://chatbotslife.com/ultimate-guide-to-leveraging-nlp-machine-learning-for-you-chatbot-531ff2dd870c
